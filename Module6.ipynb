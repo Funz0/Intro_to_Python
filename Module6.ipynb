{
 "cells": [
  {
   "cell_type": "markdown",
   "id": "593c078c",
   "metadata": {},
   "source": [
    "# Module 6: Data Processing, Standard Library and more"
   ]
  },
  {
   "cell_type": "markdown",
   "id": "2a9269e5",
   "metadata": {},
   "source": [
    "1.  Try the code below and revise it to current time. "
   ]
  },
  {
   "cell_type": "code",
   "execution_count": 1,
   "id": "a914d22c",
   "metadata": {},
   "outputs": [
    {
     "name": "stdout",
     "output_type": "stream",
     "text": [
      "2022-06-26 23:11:09.158949\t23:11:09\n",
      "Target\tBok Choy\t1.99\t5.0\n"
     ]
    }
   ],
   "source": [
    "import sys\n",
    "from datetime import datetime\n",
    "from datetime import time\n",
    "from datetime import date\n",
    "\n",
    "def groceries():\n",
    "    date = datetime.now()\n",
    "    time = date.strftime(\"%X\")\n",
    "    data = [\"Target\",\"Bok Choy\",1.99,5.00]\n",
    "    \"\"\"https://strftime.org\"\"\"\n",
    "    store, item, cost, payment = data\n",
    "    print(f\"{date}\\t{time}\\n{store}\\t{item}\\t{cost}\\t{payment}\")\n",
    "    \n",
    "groceries()"
   ]
  },
  {
   "cell_type": "markdown",
   "id": "68a463d1",
   "metadata": {},
   "source": [
    "2.  Add the timedelta to the datetime and subtract 60 second and added 2 year . (Hit: timedelta(seconds=60))  For each condition, state the code and output."
   ]
  },
  {
   "cell_type": "code",
   "execution_count": 2,
   "id": "8abb3b66",
   "metadata": {},
   "outputs": [
    {
     "name": "stdout",
     "output_type": "stream",
     "text": [
      "Current date & time: 2022-06-26 23:11:09.176639\n",
      "Minus 1 minute: 2022-06-26 23:10:09.176639\n",
      "After 2 years: 2024-06-25 23:11:09.176639\n"
     ]
    }
   ],
   "source": [
    "from datetime import timedelta  \n",
    "\n",
    "def time_wrangle():\n",
    "    # current date\n",
    "    date = datetime.now()\n",
    "    # removing sixty seconds\n",
    "    minus_sixty_secs = date - timedelta(seconds=60)\n",
    "    # adding 2 years\n",
    "    two_years_later = date + timedelta(days=730)\n",
    "    print(\"Current date & time: {}\\nMinus 1 minute: {}\\nAfter 2 years: {}\".format(date, minus_sixty_secs, two_years_later))\n",
    "\n",
    "time_wrangle()"
   ]
  },
  {
   "cell_type": "markdown",
   "id": "e6e23f06",
   "metadata": {},
   "source": [
    "3. Create a timedelta object representing 100 days, 10 hours, and 13 minutes."
   ]
  },
  {
   "cell_type": "code",
   "execution_count": 3,
   "id": "690099a7",
   "metadata": {},
   "outputs": [
    {
     "name": "stdout",
     "output_type": "stream",
     "text": [
      "Current date & time: 2022-06-26 23:11:09.189219\n",
      "After 100 days: 2022-10-04 23:11:09.189219\n",
      "After 10 hours: 2022-06-27 09:11:09.189219\n",
      "After 13 minutes: 2022-06-26 23:24:09.189219\n"
     ]
    }
   ],
   "source": [
    "def time_wrangle2():\n",
    "    # current date\n",
    "    date = datetime.now()\n",
    "    # add 100 days\n",
    "    one_hundred_days = date + timedelta(days=100)\n",
    "    # add 10 hours\n",
    "    ten_hours = date + timedelta(hours=10)\n",
    "    # add 13 minutes\n",
    "    thirteen_minutes = date + timedelta(minutes=13)\n",
    "    print(\"Current date & time: {}\\nAfter 100 days: {}\\nAfter 10 hours: {}\\nAfter 13 minutes: {}\".format(date, one_hundred_days, ten_hours, thirteen_minutes))\n",
    "    \n",
    "time_wrangle2()"
   ]
  },
  {
   "cell_type": "markdown",
   "id": "54ce33e4",
   "metadata": {},
   "source": [
    "4. Write a function that takes two arguments (feet and inches) with this time object"
   ]
  },
  {
   "cell_type": "code",
   "execution_count": 4,
   "id": "b9fe5ccb",
   "metadata": {},
   "outputs": [
    {
     "name": "stdout",
     "output_type": "stream",
     "text": [
      "Current date & time: 2022-06-26 23:11:09.202775\n",
      "Feet recorded: 5\n",
      "Inches recorded: 21\n"
     ]
    }
   ],
   "source": [
    "class curr_datetime:\n",
    "    \n",
    "    def __init__(self, feet, inches):\n",
    "        self.time = datetime.now()\n",
    "        self.feet = feet\n",
    "        self.inches = inches\n",
    "        \n",
    "    def measure(self):\n",
    "        print(f\"Current date & time: {self.time}\\nFeet recorded: {self.feet}\\nInches recorded: {self.inches}\")\n",
    "        \n",
    "my_object = curr_datetime(5,21)\n",
    "my_object.measure()"
   ]
  }
 ],
 "metadata": {
  "kernelspec": {
   "display_name": "Python 3 (ipykernel)",
   "language": "python",
   "name": "python3"
  },
  "language_info": {
   "codemirror_mode": {
    "name": "ipython",
    "version": 3
   },
   "file_extension": ".py",
   "mimetype": "text/x-python",
   "name": "python",
   "nbconvert_exporter": "python",
   "pygments_lexer": "ipython3",
   "version": "3.10.4"
  }
 },
 "nbformat": 4,
 "nbformat_minor": 5
}
