{
 "cells": [
  {
   "cell_type": "markdown",
   "id": "35a7c94f-17f0-4c69-b98f-664e0a0ff26c",
   "metadata": {
    "tags": []
   },
   "source": [
    "## Module 5: More on Functions plus Developing Tools"
   ]
  },
  {
   "cell_type": "markdown",
   "id": "bfb15731-1a18-43a2-b9bf-2adda3245def",
   "metadata": {},
   "source": [
    "This assignment will cover creating function with class Rectangle.\n",
    "\n",
    "So, a class Rectangle can be define as follows:"
   ]
  },
  {
   "cell_type": "code",
   "execution_count": 1,
   "id": "bc11825b-b953-4d7e-b39c-e89a14329f04",
   "metadata": {},
   "outputs": [
    {
     "name": "stdout",
     "output_type": "stream",
     "text": [
      "box:  ((0, 0), 100, 200)\n",
      "bomb:  ((100, 80), 5, 10)\n"
     ]
    }
   ],
   "source": [
    "class Point:\n",
    "    def __init__(self, x, y):\n",
    "        self.x = x\n",
    "        self.y = y\n",
    "\n",
    "    def __str__(self):\n",
    "        return \"({}, {})\".format(self.x, self.y)\n",
    "\n",
    "class Rectangle:\n",
    "    \"\"\" A class to manufacture rectangle objects \"\"\"\n",
    "    def __init__(self, posn, w, h):\n",
    "        \"\"\" Initialize rectangle at posn, with width w, height h \"\"\"\n",
    "        self.corner = posn\n",
    "        self.width = w\n",
    "        self.height = h\n",
    "         \n",
    "    def __str__(self):\n",
    "        return \"({0}, {1}, {2})\".format(self.corner, self.width, self.height)\n",
    "        \n",
    "box = Rectangle(Point(0, 0), 100, 200)\n",
    "bomb = Rectangle(Point(100, 80), 5, 10) # In my video game\n",
    "print(\"box: \", box)\n",
    "print(\"bomb: \", bomb)"
   ]
  },
  {
   "cell_type": "markdown",
   "id": "7f2aeb3b-4c25-42d9-bf20-a09c92c33abf",
   "metadata": {},
   "source": [
    "To create_rectangle\n",
    "\n",
    "* Input parameters: x, y, width, height\n",
    "\n",
    "* Return value: instance of Rectangle\n",
    "\n",
    "* Operation: create a new instance of Rectangle"
   ]
  },
  {
   "cell_type": "code",
   "execution_count": 2,
   "id": "5bc20ea5-25ee-4cf6-b3d5-9e103033e38c",
   "metadata": {},
   "outputs": [],
   "source": [
    "def create_rectangle(x, y, width, height):\n",
    "    \"\"\" Initialize a rectangle at x and y, width, height \"\"\"\n",
    "    posn = Point(x, y)\n",
    "    rect = Rectangle(posn, width, height)\n",
    "    return rect"
   ]
  },
  {
   "cell_type": "markdown",
   "id": "729db882-c901-4105-a46c-3d7e0dd45802",
   "metadata": {},
   "source": [
    "To str_rectangle\n",
    "\n",
    "* Input parameter: rect\n",
    "\n",
    "* Return value: string\n",
    "\n",
    "* Operation: convert given Rectangle instance into string of form (x, y, width, height)"
   ]
  },
  {
   "cell_type": "code",
   "execution_count": 3,
   "id": "acf14bcf-bceb-48c4-99a2-9ee92886de9d",
   "metadata": {},
   "outputs": [],
   "source": [
    "def str_rectangle(rect):\n",
    "    \"\"\" Convert a rectangle's instance into string form \"\"\"\n",
    "    return (rect.corner.x, rect.corner.y, rect.width, rect.height)"
   ]
  },
  {
   "cell_type": "markdown",
   "id": "81b13791-6b1a-4d7c-ab08-e84bcfa48631",
   "metadata": {},
   "source": [
    "To shift_rectangle\n",
    "\n",
    "* Input parameters: rect, dx, dy\n",
    "\n",
    "* Return value: None\n",
    "\n",
    "* Operation: change the x and y coordinates of the given Rectangle instance"
   ]
  },
  {
   "cell_type": "code",
   "execution_count": 4,
   "id": "8812fe06-102f-46ff-8ac4-76ac8eeb4d5e",
   "metadata": {},
   "outputs": [],
   "source": [
    "def shift_rectangle(rect, dx, dy):\n",
    "    \"\"\" Change x and y coordinates of rectangle objects \"\"\"\n",
    "    rect.corner.x += dx\n",
    "    rect.corner.y += dy\n",
    "    return rect"
   ]
  },
  {
   "cell_type": "markdown",
   "id": "07e3df8a-d329-408e-b7d0-e65ac1180633",
   "metadata": {},
   "source": [
    "To offset_rectangle\n",
    "\n",
    "* Input parameters: rect, dx, dy\n",
    "\n",
    "* Return value: instance of Rectangle\n",
    "\n",
    "* Operation: create a new Rectangle instance which is offset from the given instance in x and y coordinates by dx and dy respectively"
   ]
  },
  {
   "cell_type": "code",
   "execution_count": 5,
   "id": "b2f2c409-92f4-402a-b92b-74eebc9c6d3e",
   "metadata": {},
   "outputs": [],
   "source": [
    "def offset_rectangle(rect, dx, dy):\n",
    "    \"\"\" Create an offset rectangle instance in x and y coordinates \"\"\"\n",
    "    rect.corner.x -= dx\n",
    "    rect.corner.y -= dy\n",
    "    return rect"
   ]
  },
  {
   "cell_type": "markdown",
   "id": "d5519e8b-d3a3-4ad5-b946-bac2d8574bc7",
   "metadata": {},
   "source": [
    "Test your functions with the following code:"
   ]
  },
  {
   "cell_type": "code",
   "execution_count": 6,
   "id": "da64e752-7be5-41eb-9b04-c04f134d4805",
   "metadata": {},
   "outputs": [
    {
     "name": "stdout",
     "output_type": "stream",
     "text": [
      "(10, 20, 30, 40)\n",
      "(0, 0, 30, 40)\n",
      "(-100, -100, 30, 40)\n",
      "(-100, -100, 30, 40)\n"
     ]
    }
   ],
   "source": [
    "def main():\n",
    "    \"\"\" Main function to test the created rectangle class functions \"\"\"\n",
    "    r1 = create_rectangle(10, 20, 30, 40)\n",
    "    print(str_rectangle(r1))\n",
    "\n",
    "    shift_rectangle(r1, -10, -20)\n",
    "    print(str_rectangle(r1))\n",
    "\n",
    "    r2 = offset_rectangle(r1, 100, 100)\n",
    "    print(str_rectangle(r1)) # should be same as previous\n",
    "    print(str_rectangle(r2))\n",
    "\n",
    "main()"
   ]
  }
 ],
 "metadata": {
  "kernelspec": {
   "display_name": "Python 3 (ipykernel)",
   "language": "python",
   "name": "python3"
  },
  "language_info": {
   "codemirror_mode": {
    "name": "ipython",
    "version": 3
   },
   "file_extension": ".py",
   "mimetype": "text/x-python",
   "name": "python",
   "nbconvert_exporter": "python",
   "pygments_lexer": "ipython3",
   "version": "3.10.4"
  }
 },
 "nbformat": 4,
 "nbformat_minor": 5
}
